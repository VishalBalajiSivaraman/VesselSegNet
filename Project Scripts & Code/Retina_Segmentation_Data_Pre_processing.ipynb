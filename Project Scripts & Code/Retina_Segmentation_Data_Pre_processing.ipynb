{
  "cells": [
    {
      "cell_type": "code",
      "execution_count": null,
      "metadata": {
        "id": "28ssTe3mP3Nl"
      },
      "outputs": [],
      "source": [
        "from albumentations import HorizontalFlip, VerticalFlip, ElasticTransform, GridDistortion, OpticalDistortion, CoarseDropout"
      ]
    },
    {
      "cell_type": "code",
      "execution_count": null,
      "metadata": {
        "id": "K0aZfPSyCG51",
        "outputId": "f350ca7b-d88a-4b9a-dd58-0280e2a7cd33"
      },
      "outputs": [
        {
          "name": "stderr",
          "output_type": "stream",
          "text": [
            "2023-04-07 10:31:51.404335: I tensorflow/core/platform/cpu_feature_guard.cc:193] This TensorFlow binary is optimized with oneAPI Deep Neural Network Library (oneDNN) to use the following CPU instructions in performance-critical operations:  SSE4.1 SSE4.2 AVX AVX2 FMA\n",
            "To enable them in other operations, rebuild TensorFlow with the appropriate compiler flags.\n"
          ]
        }
      ],
      "source": [
        "import os\n",
        "import sys\n",
        "import pandas as pd\n",
        "import torch\n",
        "import tensorflow as tf\n",
        "import numpy as np\n",
        "import cv2\n",
        "import matplotlib.pyplot as plt\n",
        "import shutil\n",
        "import glob\n",
        "from time import time\n",
        "import random\n",
        "import zipfile"
      ]
    },
    {
      "cell_type": "code",
      "execution_count": null,
      "metadata": {
        "id": "kLzL65xFP3No",
        "outputId": "c926fd5d-07b1-4db8-edbc-1e8063b3b5df"
      },
      "outputs": [
        {
          "name": "stdout",
          "output_type": "stream",
          "text": [
            "5\n"
          ]
        }
      ],
      "source": [
        "num_of_gpus = torch.cuda.device_count()\n",
        "print(num_of_gpus)"
      ]
    },
    {
      "cell_type": "code",
      "execution_count": null,
      "metadata": {
        "id": "jKTYdIWUP3Np"
      },
      "outputs": [],
      "source": [
        "#shutil.rmtree(os.path.join(os.getcwd(),'Vessels-Datasets'))\n",
        "#shutil.rmtree(os.path.join(os.getcwd(),'RBVS')) "
      ]
    },
    {
      "cell_type": "code",
      "execution_count": null,
      "metadata": {
        "id": "EvGx1qk6frIE"
      },
      "outputs": [],
      "source": [
        "zip = zipfile.ZipFile('Vessels-Datasets.zip')\n",
        "zip.extractall()"
      ]
    },
    {
      "cell_type": "code",
      "execution_count": null,
      "metadata": {
        "id": "2TFBZ6era8Tr"
      },
      "outputs": [],
      "source": [
        "path = os.path.join(os.getcwd(),'RBVS/Retina_Seg/Dataset/ImagesTR') \n",
        "os.makedirs(path)"
      ]
    },
    {
      "cell_type": "code",
      "execution_count": null,
      "metadata": {
        "id": "auZ4CBnQbFwH"
      },
      "outputs": [],
      "source": [
        "path = os.path.join(os.getcwd(),'RBVS/Retina_Seg/Dataset/ImagesTS') \n",
        "os.makedirs(path)"
      ]
    },
    {
      "cell_type": "code",
      "execution_count": null,
      "metadata": {
        "id": "hkDjmjmmbGIU"
      },
      "outputs": [],
      "source": [
        "path = os.path.join(os.getcwd(),'RBVS/Retina_Seg/Dataset/ImagesVL') \n",
        "os.makedirs(path)"
      ]
    },
    {
      "cell_type": "code",
      "execution_count": null,
      "metadata": {
        "id": "ciYVSVZQchw5"
      },
      "outputs": [],
      "source": [
        "path = os.path.join(os.getcwd(),'RBVS/Retina_Seg/Dataset/TR_Masks') \n",
        "os.makedirs(path)"
      ]
    },
    {
      "cell_type": "code",
      "execution_count": null,
      "metadata": {
        "id": "1cj_FdrHs6ai"
      },
      "outputs": [],
      "source": [
        "path = os.path.join(os.getcwd(),'RBVS/Retina_Seg/Dataset/TS_Masks') \n",
        "os.makedirs(path)"
      ]
    },
    {
      "cell_type": "code",
      "execution_count": null,
      "metadata": {
        "id": "0zfnoK_jbaBh"
      },
      "outputs": [],
      "source": [
        "path = os.path.join(os.getcwd(),'RBVS/Retina_Seg/ModelFiles') \n",
        "os.makedirs(path)"
      ]
    },
    {
      "cell_type": "code",
      "execution_count": null,
      "metadata": {
        "id": "aM-2tzjkP3Nv"
      },
      "outputs": [],
      "source": [
        "path = os.path.join(os.getcwd(),'RBVS/Retina_Seg/ModelMetrics') \n",
        "os.makedirs(path)"
      ]
    },
    {
      "cell_type": "code",
      "execution_count": null,
      "metadata": {
        "id": "uphfXF3WbIM1"
      },
      "outputs": [],
      "source": [
        "path = os.path.join(os.getcwd(),'RBVS/Retina_Seg/Model') \n",
        "os.makedirs(path)"
      ]
    },
    {
      "cell_type": "code",
      "execution_count": null,
      "metadata": {
        "id": "a5ZwRrhtwwHb"
      },
      "outputs": [],
      "source": [
        "def data_process(fn,fn1,fn2,fn3):\n",
        "  patho = os.path.join(os.getcwd(),'Vessels-Datasets',fn,fn1,'Original','Images/')\n",
        "  patho1 = os.path.join(os.getcwd(),'Vessels-Datasets',fn,fn1,'Original','Labels/')\n",
        "  pathn = os.path.join(os.getcwd(),'RBVS','Retina_Seg','Dataset',fn2)\n",
        "  pathn1 = os.path.join(os.getcwd(),'RBVS','Retina_Seg','Dataset',fn3)\n",
        "  img_size=(512,512)\n",
        "  print(\"Total Numnber of files to be processed :\",len(os.listdir(patho))+len(os.listdir(patho1)))\n",
        "  for i in os.listdir(patho):\n",
        "    for j in os.listdir(patho1):\n",
        "      imag = i.split('.')[0]\n",
        "      labl = j.split('.')[0]\n",
        "      if imag == labl:\n",
        "        imgn = imag + '.png'\n",
        "        img = cv2.imread(patho+i,cv2.IMREAD_COLOR)\n",
        "        lab = cv2.imread(patho1+j,cv2.IMREAD_GRAYSCALE)\n",
        "        img = cv2.resize(img,img_size)\n",
        "        lab = cv2.resize(lab,img_size)\n",
        "        cv2.imwrite(pathn+fn+fn1+imgn,img)\n",
        "        cv2.imwrite(pathn1+fn+fn1+imgn,lab)\n",
        "      else:\n",
        "        continue\n",
        "  print(\"Total Numnber of image files saved in the directory:\",len(os.listdir(pathn)))\n",
        "  print(\"Total Numnber of mask files saved in the directory:\",len(os.listdir(pathn1)))"
      ]
    },
    {
      "cell_type": "code",
      "execution_count": null,
      "metadata": {
        "colab": {
          "base_uri": "https://localhost:8080/"
        },
        "id": "vOTKFfbDhpr5",
        "outputId": "346dec63-6152-4da5-c824-d3b7c312394d"
      },
      "outputs": [
        {
          "name": "stdout",
          "output_type": "stream",
          "text": [
            "Total Numnber of files to be processed : 240\n",
            "Total Numnber of image files saved in the directory: 120\n",
            "Total Numnber of mask files saved in the directory: 120\n"
          ]
        }
      ],
      "source": [
        "data_process('ARIA','Train','ImagesTR/','TR_Masks/')"
      ]
    },
    {
      "cell_type": "code",
      "execution_count": null,
      "metadata": {
        "colab": {
          "base_uri": "https://localhost:8080/"
        },
        "id": "jHN9YySGhp4c",
        "outputId": "37e88380-5b1b-4502-e40b-fed3562073dc"
      },
      "outputs": [
        {
          "name": "stdout",
          "output_type": "stream",
          "text": [
            "Total Numnber of files to be processed : 44\n",
            "Total Numnber of image files saved in the directory: 22\n",
            "Total Numnber of mask files saved in the directory: 22\n"
          ]
        }
      ],
      "source": [
        "data_process('ARIA','Test','ImagesTS/','TS_Masks/')"
      ]
    },
    {
      "cell_type": "code",
      "execution_count": null,
      "metadata": {
        "colab": {
          "base_uri": "https://localhost:8080/"
        },
        "id": "CZe67AjVhqJI",
        "outputId": "2599fe13-9dcc-4a05-9f90-b7180e2fcf41"
      },
      "outputs": [
        {
          "name": "stdout",
          "output_type": "stream",
          "text": [
            "Total Numnber of files to be processed : 40\n",
            "Total Numnber of image files saved in the directory: 140\n",
            "Total Numnber of mask files saved in the directory: 140\n"
          ]
        }
      ],
      "source": [
        "data_process('ChaseDB','Train','ImagesTR/','TR_Masks/')"
      ]
    },
    {
      "cell_type": "code",
      "execution_count": null,
      "metadata": {
        "colab": {
          "base_uri": "https://localhost:8080/"
        },
        "id": "lltNEtDmhqM2",
        "outputId": "23467928-04cd-41f0-f803-f5b90dd9d267"
      },
      "outputs": [
        {
          "name": "stdout",
          "output_type": "stream",
          "text": [
            "Total Numnber of files to be processed : 16\n",
            "Total Numnber of image files saved in the directory: 30\n",
            "Total Numnber of mask files saved in the directory: 30\n"
          ]
        }
      ],
      "source": [
        "data_process('ChaseDB','Test','ImagesTS/','TS_Masks/')"
      ]
    },
    {
      "cell_type": "code",
      "execution_count": null,
      "metadata": {
        "colab": {
          "base_uri": "https://localhost:8080/"
        },
        "id": "8S3XQkadhqfi",
        "outputId": "f251187d-b8cf-4e89-ed8c-e0b0869696e1"
      },
      "outputs": [
        {
          "name": "stdout",
          "output_type": "stream",
          "text": [
            "Total Numnber of files to be processed : 68\n",
            "Total Numnber of image files saved in the directory: 174\n",
            "Total Numnber of mask files saved in the directory: 174\n"
          ]
        }
      ],
      "source": [
        "data_process('DR-Hagis','Train','ImagesTR/','TR_Masks/')"
      ]
    },
    {
      "cell_type": "code",
      "execution_count": null,
      "metadata": {
        "colab": {
          "base_uri": "https://localhost:8080/"
        },
        "id": "YZuN855GqqpY",
        "outputId": "6232f0bb-32b6-4199-8a4e-13ebe0a2f837"
      },
      "outputs": [
        {
          "name": "stdout",
          "output_type": "stream",
          "text": [
            "Total Numnber of files to be processed : 12\n",
            "Total Numnber of image files saved in the directory: 36\n",
            "Total Numnber of mask files saved in the directory: 36\n"
          ]
        }
      ],
      "source": [
        "data_process('DR-Hagis','Test','ImagesTS/','TS_Masks/')"
      ]
    },
    {
      "cell_type": "code",
      "execution_count": null,
      "metadata": {
        "colab": {
          "base_uri": "https://localhost:8080/"
        },
        "id": "2A-IyyOQqzN_",
        "outputId": "f2ba14b3-c05b-4754-b38c-2b365e6844af"
      },
      "outputs": [
        {
          "name": "stdout",
          "output_type": "stream",
          "text": [
            "Total Numnber of files to be processed : 40\n",
            "Total Numnber of image files saved in the directory: 194\n",
            "Total Numnber of mask files saved in the directory: 194\n"
          ]
        }
      ],
      "source": [
        "data_process('DRIVE','Train','ImagesTR/','TR_Masks/')"
      ]
    },
    {
      "cell_type": "code",
      "execution_count": null,
      "metadata": {
        "colab": {
          "base_uri": "https://localhost:8080/"
        },
        "id": "YfG_ynydrF4C",
        "outputId": "3073340e-54f2-445f-f39e-61b29257a54c"
      },
      "outputs": [
        {
          "name": "stdout",
          "output_type": "stream",
          "text": [
            "Total Numnber of files to be processed : 40\n",
            "Total Numnber of image files saved in the directory: 56\n",
            "Total Numnber of mask files saved in the directory: 56\n"
          ]
        }
      ],
      "source": [
        "data_process('DRIVE','Test','ImagesTS/','TS_Masks/')"
      ]
    },
    {
      "cell_type": "code",
      "execution_count": null,
      "metadata": {
        "colab": {
          "base_uri": "https://localhost:8080/"
        },
        "id": "uvlVW7f4q47Q",
        "outputId": "0065b797-2350-4f37-eee2-220fcace3046"
      },
      "outputs": [
        {
          "name": "stdout",
          "output_type": "stream",
          "text": [
            "Total Numnber of files to be processed : 30\n",
            "Total Numnber of image files saved in the directory: 209\n",
            "Total Numnber of mask files saved in the directory: 209\n"
          ]
        }
      ],
      "source": [
        "data_process('HRF','Train','ImagesTR/','TR_Masks/')"
      ]
    },
    {
      "cell_type": "code",
      "execution_count": null,
      "metadata": {
        "colab": {
          "base_uri": "https://localhost:8080/"
        },
        "id": "mVNFwuv2qzQZ",
        "outputId": "681e6ff9-00e8-40d7-df6b-7f24826cd44e"
      },
      "outputs": [
        {
          "name": "stdout",
          "output_type": "stream",
          "text": [
            "Total Numnber of files to be processed : 60\n",
            "Total Numnber of image files saved in the directory: 86\n",
            "Total Numnber of mask files saved in the directory: 86\n"
          ]
        }
      ],
      "source": [
        "data_process('HRF','Test','ImagesTS/','TS_Masks/')"
      ]
    },
    {
      "cell_type": "code",
      "execution_count": null,
      "metadata": {
        "colab": {
          "base_uri": "https://localhost:8080/"
        },
        "id": "Wl1vWG7yq5A-",
        "outputId": "ac7baa68-e72f-469b-8d91-f3b7370a45e8"
      },
      "outputs": [
        {
          "name": "stdout",
          "output_type": "stream",
          "text": [
            "Total Numnber of files to be processed : 36\n",
            "Total Numnber of image files saved in the directory: 227\n",
            "Total Numnber of mask files saved in the directory: 227\n"
          ]
        }
      ],
      "source": [
        "data_process('IOSTAR','Train','ImagesTR/','TR_Masks/')"
      ]
    },
    {
      "cell_type": "code",
      "execution_count": null,
      "metadata": {
        "colab": {
          "base_uri": "https://localhost:8080/"
        },
        "id": "2m9ndTp8rKWR",
        "outputId": "f06e2814-8059-4c04-e99d-1d4b34241536"
      },
      "outputs": [
        {
          "name": "stdout",
          "output_type": "stream",
          "text": [
            "Total Numnber of files to be processed : 36\n",
            "Total Numnber of image files saved in the directory: 104\n",
            "Total Numnber of mask files saved in the directory: 104\n"
          ]
        }
      ],
      "source": [
        "data_process('IOSTAR','Test','ImagesTS/','TS_Masks/')"
      ]
    },
    {
      "cell_type": "code",
      "execution_count": null,
      "metadata": {
        "colab": {
          "base_uri": "https://localhost:8080/"
        },
        "id": "xUCLJib-rR5h",
        "outputId": "c1172a68-c29e-4015-c129-2ecbf67cc4f5"
      },
      "outputs": [
        {
          "name": "stdout",
          "output_type": "stream",
          "text": [
            "Total Numnber of files to be processed : 82\n",
            "Total Numnber of image files saved in the directory: 268\n",
            "Total Numnber of mask files saved in the directory: 268\n"
          ]
        }
      ],
      "source": [
        "data_process('ORVS','Train','ImagesTR/','TR_Masks/')"
      ]
    },
    {
      "cell_type": "code",
      "execution_count": null,
      "metadata": {
        "colab": {
          "base_uri": "https://localhost:8080/"
        },
        "id": "itQ01C28rR_S",
        "outputId": "021dda96-a9fe-4d13-b3a5-0d2060ff6db9"
      },
      "outputs": [
        {
          "name": "stdout",
          "output_type": "stream",
          "text": [
            "Total Numnber of files to be processed : 16\n",
            "Total Numnber of image files saved in the directory: 112\n",
            "Total Numnber of mask files saved in the directory: 112\n"
          ]
        }
      ],
      "source": [
        "data_process('ORVS','Test','ImagesTS/','TS_Masks/')"
      ]
    },
    {
      "cell_type": "code",
      "execution_count": null,
      "metadata": {
        "id": "zwyDZIudhnDm"
      },
      "outputs": [],
      "source": [
        "def data_aug(ch,fn1,fn2):\n",
        "    pathn = os.path.join(os.getcwd(),'RBVS','Retina_Seg','Dataset',fn1)\n",
        "    pathn1 = os.path.join(os.getcwd(),'RBVS','Retina_Seg','Dataset',fn2)\n",
        "    print(\"Total Numnber of files to be augmented :\",len(os.listdir(pathn))+len(os.listdir(pathn1)))\n",
        "    tech=[HorizontalFlip(p=1.0),VerticalFlip(p=1.0),ElasticTransform(p=1, alpha=120, sigma=120 * 0.05, alpha_affine=120 * 0.03),GridDistortion(p=1),OpticalDistortion(p=1, distort_limit=2, shift_limit=0.5)]\n",
        "    img_size=(512,512)\n",
        "    for i in os.listdir(pathn):\n",
        "      img = cv2.imread(pathn+i,cv2.IMREAD_COLOR)\n",
        "      lab = cv2.imread(pathn1+i,cv2.IMREAD_GRAYSCALE)\n",
        "      if ch:\n",
        "        for j in range (len(tech)):\n",
        "          imaj = i.split('.')[0]\n",
        "          idx = imaj+'aug'+str(j+1)+'.png'\n",
        "          aug = tech[j]\n",
        "          augmented = aug(image=img, mask=lab)\n",
        "          image = augmented['image']\n",
        "          label = augmented['mask']\n",
        "          cv2.imwrite(pathn+idx,image)\n",
        "          cv2.imwrite(pathn1+idx,label)\n",
        "      else:\n",
        "        continue\n",
        "    print(\"Total Numnber of image files saved in the directory:\",len(os.listdir(pathn)))\n",
        "    print(\"Total Numnber of mask files saved in the directory:\",len(os.listdir(pathn1)))"
      ]
    },
    {
      "cell_type": "code",
      "execution_count": null,
      "metadata": {
        "colab": {
          "base_uri": "https://localhost:8080/"
        },
        "id": "-2uOrSgZLjkl",
        "outputId": "1c9a7c1d-e36c-4df0-8fac-581862be3c90"
      },
      "outputs": [
        {
          "name": "stdout",
          "output_type": "stream",
          "text": [
            "Total Numnber of files to be augmented : 536\n",
            "Total Numnber of image files saved in the directory: 1608\n",
            "Total Numnber of mask files saved in the directory: 1608\n"
          ]
        }
      ],
      "source": [
        "data_aug(True,'ImagesTR/','TR_Masks/')"
      ]
    },
    {
      "cell_type": "code",
      "execution_count": null,
      "metadata": {
        "colab": {
          "base_uri": "https://localhost:8080/"
        },
        "id": "Tgf_9-0uN_Ku",
        "outputId": "2c19176d-4054-4405-889e-1c722b95b50f"
      },
      "outputs": [
        {
          "name": "stdout",
          "output_type": "stream",
          "text": [
            "Total Numnber of files to be augmented : 224\n",
            "Total Numnber of image files saved in the directory: 672\n",
            "Total Numnber of mask files saved in the directory: 672\n"
          ]
        }
      ],
      "source": [
        "data_aug(True,'ImagesTS/','TS_Masks/')"
      ]
    },
    {
      "cell_type": "code",
      "execution_count": null,
      "metadata": {
        "id": "CtTp7-f2XMjL"
      },
      "outputs": [],
      "source": [
        "def image_list():\n",
        "  val = ['im002.ppm','im003.ppm','im005.ppm','im006.ppm','im008.ppm','im009.ppm','im0010.ppm','im0014.ppm','im0015.ppm','im0017.ppm','im0020.ppm','im0022.ppm','im0024.ppm','im0025.ppm','im0026.ppm','im0027.ppm','im0032.ppm','im0037.ppm','im0038.ppm','im0040.ppm','im0052.ppm','im0053.ppm','im0057.ppm','im0058.ppm','im0059.ppm','im0063.ppm','im0076.ppm','im0077.ppm','im0080.ppm','im0081.ppm','im0085.ppm','im0089.ppm','im0093.ppm','im0095.ppm','im0097.ppm','im0100.ppm','im0101.ppm','im0105.ppm','im0107.ppm','im0110.ppm','im0112.ppm','im0113.ppm','im0114.ppm','im0115.ppm','im0116.ppm','im0118.ppm','im0119.ppm','im0120.ppm','im0122.ppm','im0124.ppm','im0128.ppm','im0129.ppm','im0133.ppm','im0134.ppm','im0139.ppm','im0140.ppm','im0157.ppm','im0159.ppm','im0161.ppm','im0170.ppm','im0180.ppm','im0182.ppm','im0187.ppm','im0189.ppm','im0190.ppm','im0195.ppm','im0196.ppm','im0200.ppm','im0201.ppm','im0204.ppm','im0218.ppm','im0224.ppm','im0225.ppm','im0241.ppm','im0245.ppm','im0256.ppm','im0267.ppm','im0279.ppm','im0284.ppm','im0299.ppm','im0302.ppm','im0328.ppm','im0333.ppm','im0336.ppm','im0343.ppm','im0347.ppm','im0351.ppm','im0357.ppm','im0364.ppm','im0368.ppm','im0370.ppm','im0376.ppm','im0381.ppm','im0389.ppm','im0394.ppm','im0397.ppm','im0398.ppm','im0399.ppm','im0400.ppm','im0401.ppm']\n",
        "  return random.sample(val,5)"
      ]
    },
    {
      "cell_type": "code",
      "execution_count": null,
      "metadata": {
        "id": "qolJ1wbPIetN"
      },
      "outputs": [],
      "source": [
        "def val_images():\n",
        "  path =os.path.join(os.getcwd(),'Vessels-Datasets','STARE/')\n",
        "  path1 = os.path.join(os.getcwd(),'RBVS','Retina_Seg','Dataset','ImagesVL/')\n",
        "  val = image_list()\n",
        "  for i in range(len(val)):\n",
        "    imgn = val[i].split('.')[0] + '.png'\n",
        "    img = cv2.imread(path+val[i],cv2.IMREAD_COLOR)\n",
        "    img = cv2.resize(img,(512,512))\n",
        "    cv2.imwrite(path1+imgn,img)"
      ]
    },
    {
      "cell_type": "code",
      "execution_count": null,
      "metadata": {
        "id": "0ND1vr3zZeVq"
      },
      "outputs": [],
      "source": [
        "val_images()"
      ]
    },
    {
      "cell_type": "code",
      "execution_count": null,
      "metadata": {
        "colab": {
          "base_uri": "https://localhost:8080/"
        },
        "id": "RX8V9bP1Z_Hz",
        "outputId": "780792a4-5f2f-4277-c6a6-839f5f5563b3"
      },
      "outputs": [
        {
          "name": "stdout",
          "output_type": "stream",
          "text": [
            "Writing metrics.py\n"
          ]
        }
      ],
      "source": [
        "%%writefile  metrics.py\n",
        "\n",
        "import numpy as np\n",
        "import tensorflow as tf\n",
        "from tensorflow.keras import backend as K\n",
        "from tensorflow.keras.losses import BinaryCrossentropy\n",
        "\n",
        "def iou(y_true, y_pred):\n",
        "    def f(y_true, y_pred):\n",
        "        intersection = (y_true * y_pred).sum()\n",
        "        union = y_true.sum() + y_pred.sum() - intersection\n",
        "        x = (intersection + 1e-15) / (union + 1e-15)\n",
        "        x = x.astype(np.float32)\n",
        "        return x\n",
        "    return tf.numpy_function(f, [y_true, y_pred], tf.float32)\n",
        "\n",
        "smooth = 1e-15\n",
        "def dice_coef(y_true, y_pred):\n",
        "    y_true = tf.keras.layers.Flatten()(y_true)\n",
        "    y_pred = tf.keras.layers.Flatten()(y_pred)\n",
        "    intersection = tf.reduce_sum(y_true * y_pred)\n",
        "    return (2. * intersection + smooth) / (tf.reduce_sum(y_true) + tf.reduce_sum(y_pred) + smooth)\n",
        "\n",
        "def dice_loss(y_true, y_pred):\n",
        "    return 1.0 - dice_coef(y_true, y_pred)\n"
      ]
    },
    {
      "cell_type": "code",
      "execution_count": null,
      "metadata": {
        "colab": {
          "base_uri": "https://localhost:8080/"
        },
        "id": "RFipxrePakps",
        "outputId": "f038b21e-310b-4951-e2a1-c8f421cd3f70"
      },
      "outputs": [
        {
          "name": "stdout",
          "output_type": "stream",
          "text": [
            "Writing model.py\n"
          ]
        }
      ],
      "source": [
        "%%writefile  model.py\n",
        "\n",
        "from tensorflow.keras.layers import Conv2D, BatchNormalization, Activation, MaxPool2D, Conv2DTranspose, Concatenate, Input\n",
        "from tensorflow.keras.models import Model\n",
        "\n",
        "def conv_block(inputs, num_filters):\n",
        "    x = Conv2D(num_filters, 3, padding=\"same\",kernel_initializer='lecun_normal')(inputs)\n",
        "    x = BatchNormalization()(x)\n",
        "    x = Activation(\"selu\")(x)\n",
        "\n",
        "    x = Conv2D(num_filters, 3, padding=\"same\",kernel_initializer='lecun_normal')(x)\n",
        "    x = BatchNormalization()(x)\n",
        "    x = Activation(\"selu\")(x)\n",
        "\n",
        "    return x\n",
        "\n",
        "def encoder_block(inputs, num_filters):\n",
        "    x = conv_block(inputs, num_filters)\n",
        "    p = MaxPool2D((2, 2))(x)\n",
        "    return x, p\n",
        "\n",
        "def decoder_block(inputs, skip_features, num_filters):\n",
        "    x = Conv2DTranspose(num_filters, (2, 2), strides=2, padding=\"same\",kernel_initializer='lecun_normal')(inputs)\n",
        "    x = Concatenate()([x, skip_features])\n",
        "    x = conv_block(x, num_filters)\n",
        "    return x\n",
        "\n",
        "def build_unet(input_shape):\n",
        "    inputs = Input(input_shape)\n",
        "\n",
        "    s1, p1 = encoder_block(inputs, 64)\n",
        "    s2, p2 = encoder_block(p1, 128)\n",
        "    s3, p3 = encoder_block(p2, 256)\n",
        "    s4, p4 = encoder_block(p3, 512)\n",
        "\n",
        "    b1 = conv_block(p4, 1024)\n",
        "\n",
        "    d1 = decoder_block(b1, s4, 512)\n",
        "    d2 = decoder_block(d1, s3, 256)\n",
        "    d3 = decoder_block(d2, s2, 128)\n",
        "    d4 = decoder_block(d3, s1, 64)\n",
        "\n",
        "    outputs = Conv2D(1, 1, padding=\"same\", activation=\"sigmoid\")(d4)\n",
        "\n",
        "    model = Model(inputs, outputs, name=\"UNET\")\n",
        "    return model\n",
        "\n",
        "if __name__ == \"__main__\":\n",
        "    input_shape = (512, 512, 3)\n",
        "    model = build_unet(input_shape)\n",
        "    model.summary()"
      ]
    },
    {
      "cell_type": "code",
      "execution_count": null,
      "metadata": {
        "colab": {
          "base_uri": "https://localhost:8080/",
          "height": 36
        },
        "id": "EwvsVea8aoAy",
        "outputId": "fcd944f1-cb7c-4f3b-e978-d3c69f6012d5"
      },
      "outputs": [
        {
          "data": {
            "text/plain": [
              "'/blue/eel6825/vi.sivaraman/Project/Model Training/Final/RBVS/Retina_Seg/ModelFiles/metrics.py'"
            ]
          },
          "execution_count": 36,
          "metadata": {},
          "output_type": "execute_result"
        }
      ],
      "source": [
        "shutil.copy(os.getcwd()+'/metrics.py', os.getcwd()+'/RBVS/Retina_Seg/ModelFiles/metrics.py')"
      ]
    },
    {
      "cell_type": "code",
      "execution_count": null,
      "metadata": {
        "colab": {
          "base_uri": "https://localhost:8080/",
          "height": 36
        },
        "id": "EvjKfWgdayPP",
        "outputId": "9e1f3ec8-c68c-4e62-f797-c3ce276d575a"
      },
      "outputs": [
        {
          "data": {
            "text/plain": [
              "'/blue/eel6825/vi.sivaraman/Project/Model Training/Final/RBVS/Retina_Seg/ModelFiles/model.py'"
            ]
          },
          "execution_count": 37,
          "metadata": {},
          "output_type": "execute_result"
        }
      ],
      "source": [
        "shutil.copy(os.getcwd()+'/model.py', os.getcwd()+'/RBVS/Retina_Seg/ModelFiles/model.py')"
      ]
    },
    {
      "cell_type": "code",
      "execution_count": null,
      "metadata": {
        "id": "7S8OAHI8a3kk"
      },
      "outputs": [],
      "source": [
        "os.remove('metrics.py')"
      ]
    },
    {
      "cell_type": "code",
      "execution_count": null,
      "metadata": {
        "id": "jPXmZ04Da4F-"
      },
      "outputs": [],
      "source": [
        "os.remove('model.py')"
      ]
    },
    {
      "cell_type": "code",
      "execution_count": null,
      "metadata": {
        "id": "D6h8tRXfP3N3"
      },
      "outputs": [],
      "source": [
        "zp = shutil.make_archive('Retina_Seg_reg', 'zip', os.path.join(os.getcwd(),'RBVS'))"
      ]
    },
    {
      "cell_type": "code",
      "execution_count": null,
      "metadata": {
        "id": "rLJ06KiQP3N3"
      },
      "outputs": [],
      "source": [
        "shutil.rmtree(os.path.join(os.getcwd(),'RBVS'))"
      ]
    }
  ],
  "metadata": {
    "colab": {
      "provenance": []
    },
    "kernelspec": {
      "display_name": "shao_lab_env",
      "language": "python",
      "name": "shao_lab"
    },
    "language_info": {
      "codemirror_mode": {
        "name": "ipython",
        "version": 3
      },
      "file_extension": ".py",
      "mimetype": "text/x-python",
      "name": "python",
      "nbconvert_exporter": "python",
      "pygments_lexer": "ipython3",
      "version": "3.10.6"
    }
  },
  "nbformat": 4,
  "nbformat_minor": 0
}